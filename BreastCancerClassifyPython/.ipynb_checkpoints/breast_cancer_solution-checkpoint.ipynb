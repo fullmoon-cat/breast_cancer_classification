{
 "cells": [
  {
   "cell_type": "markdown",
   "id": "73549e9e",
   "metadata": {},
   "source": [
    "# Breast Cancer Classification Project\n",
    "\\<Insert introduction here\\>"
   ]
  },
  {
   "cell_type": "markdown",
   "id": "38e4f72f",
   "metadata": {},
   "source": [
    "To make things easier, we will be importing **libraries** such as NumPy. If you don't know what libraries are, \n",
    "\\<insert explaination of libraries here>\n",
    "\n",
    "Below are documentations to libraries that we will use. While I will try to make it clear how each function we need from them works, I highly recommend you go and look them up yourself as reading documentations is an important skill in learning coding!\n",
    "\n",
    "NumPy: https://numpy.org/doc/stable/\n",
    "\n",
    "Pandas: https://pandas.pydata.org/pandas-docs/stable/"
   ]
  },
  {
   "cell_type": "code",
   "execution_count": 16,
   "id": "2cfdcb46",
   "metadata": {},
   "outputs": [],
   "source": [
    "import numpy as np\n",
    "import pandas as pd"
   ]
  },
  {
   "cell_type": "markdown",
   "id": "4385edb8",
   "metadata": {},
   "source": [
    "## Step 1: Read data\n",
    "First, we want to read the train and test datasets (.csv files provided with the starter code).\n",
    "\n",
    "The `read_csv()` function in pandas reads a csv file into a [dataframe](\n",
    "https://pandas.pydata.org/docs/reference/api/pandas.DataFrame.html), and `.to_numpy()` converts it to a NumPy array.\n",
    "\n",
    "You can read more about the dataset at https://archive.ics.uci.edu/ml/datasets/Breast+Cancer+Wisconsin+(Diagnostic)\n",
    "and https://citeseerx.ist.psu.edu/viewdoc/download?doi=10.1.1.56.707&rep=rep1&type=pdf"
   ]
  },
  {
   "cell_type": "code",
   "execution_count": 23,
   "id": "c7207f0d",
   "metadata": {},
   "outputs": [],
   "source": [
    "train = pd.read_csv('train_data.csv').to_numpy()\n",
    "test = pd.read_csv('test_data.csv').to_numpy()"
   ]
  },
  {
   "cell_type": "code",
   "execution_count": 20,
   "id": "e7ec02ec",
   "metadata": {},
   "outputs": [
    {
     "data": {
      "text/plain": [
       "array([[1002945,       5,       4, ...,       2,       1,       2],\n",
       "       [1015425,       3,       1, ...,       1,       1,       2],\n",
       "       [1016277,       6,       8, ...,       7,       1,       2],\n",
       "       ...,\n",
       "       [1140597,       7,       1, ...,       1,       1,       2],\n",
       "       [1149548,       1,       1, ...,       1,       1,       2],\n",
       "       [1174009,       5,       1, ...,       1,       1,       2]])"
      ]
     },
     "execution_count": 20,
     "metadata": {},
     "output_type": "execute_result"
    }
   ],
   "source": [
    "train"
   ]
  }
 ],
 "metadata": {
  "kernelspec": {
   "display_name": "Python 3",
   "language": "python",
   "name": "python3"
  },
  "language_info": {
   "codemirror_mode": {
    "name": "ipython",
    "version": 3
   },
   "file_extension": ".py",
   "mimetype": "text/x-python",
   "name": "python",
   "nbconvert_exporter": "python",
   "pygments_lexer": "ipython3",
   "version": "3.8.8"
  }
 },
 "nbformat": 4,
 "nbformat_minor": 5
}
