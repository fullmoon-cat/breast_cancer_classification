{
 "cells": [
  {
   "cell_type": "markdown",
   "id": "73549e9e",
   "metadata": {},
   "source": [
    "# Breast Cancer Classification Project\n",
    "\\<Insert introduction here\\>"
   ]
  },
  {
   "cell_type": "markdown",
   "id": "a5df0289",
   "metadata": {},
   "source": [
    "To make things easier, we will be importing **libraries** such as NumPy. If you don't know what libraries are, \n",
    "\\<insert explaination of libraries here>\n",
    "\n",
    "Below are documentations to libraries that we will use. While I will try to make it clear how each function we need from them works, I highly recommend you go and look them up yourself as reading documentations is an important skill in learning coding!\n",
    "\n",
    "NumPy: https://numpy.org/doc/stable/\n",
    "\n",
    "Pandas: https://pandas.pydata.org/pandas-docs/stable/"
   ]
  },
  {
   "cell_type": "code",
   "execution_count": 1,
   "id": "08d2fe04",
   "metadata": {},
   "outputs": [],
   "source": [
    "import numpy as np\n",
    "import pandas as pd"
   ]
  },
  {
   "cell_type": "markdown",
   "id": "4385edb8",
   "metadata": {},
   "source": [
    "### Step 1: Read data\n",
    "(We've done this for you, nothing to edit here)\n",
    "\n",
    "First, we want to read the train and test datasets (.csv files provided with the starter code).\n",
    "If interested, you can read more about the dataset at [this website]( https://archive.ics.uci.edu/ml/datasets/Breast+Cancer+Wisconsin+(Diagnostic))\n",
    "and [this PDF](https://citeseerx.ist.psu.edu/viewdoc/download?doi=10.1.1.56.707&rep=rep1&type=pdf) describes how it was created.\n",
    "\n",
    "The important things to know about the source data format are that the first column contains IDs of entries, the last column contains classifications where 2 means benign and 4 means maligant, and everything in between are values of features.\n",
    "\n",
    "The `read_csv()` function in pandas reads a csv file into a [dataframe](\n",
    "https://pandas.pydata.org/docs/reference/api/pandas.DataFrame.html), and `.to_numpy()` converts it to a NumPy array."
   ]
  },
  {
   "cell_type": "code",
   "execution_count": 24,
   "id": "21f5ac87",
   "metadata": {},
   "outputs": [],
   "source": [
    "train = pd.read_csv('train_data.csv').to_numpy()\n",
    "test = pd.read_csv('test_data.csv').to_numpy()"
   ]
  },
  {
   "cell_type": "code",
   "execution_count": 3,
   "id": "63e64452",
   "metadata": {},
   "outputs": [],
   "source": [
    "CLASSIFICATION_INDEX = -1\n",
    "MALIGNANT = 4\n",
    "BENIGN = 2"
   ]
  },
  {
   "cell_type": "markdown",
   "id": "87608d0c",
   "metadata": {},
   "source": [
    "Display the arrays below to get a better idea of how they look like!"
   ]
  },
  {
   "cell_type": "code",
   "execution_count": 4,
   "id": "8836e6e4",
   "metadata": {},
   "outputs": [
    {
     "data": {
      "text/plain": [
       "array([[1002945,       5,       4,       4,       5,       7,      10,\n",
       "              3,       2,       1,       2],\n",
       "       [1015425,       3,       1,       1,       1,       2,       2,\n",
       "              3,       1,       1,       2],\n",
       "       [1016277,       6,       8,       8,       1,       3,       4,\n",
       "              3,       7,       1,       2],\n",
       "       [1017023,       4,       1,       1,       3,       2,       1,\n",
       "              3,       1,       1,       2],\n",
       "       [1017122,       8,      10,      10,       8,       7,      10,\n",
       "              9,       7,       1,       4]])"
      ]
     },
     "execution_count": 4,
     "metadata": {},
     "output_type": "execute_result"
    }
   ],
   "source": [
    "train[:5]"
   ]
  },
  {
   "cell_type": "code",
   "execution_count": 5,
   "id": "c52bc82c",
   "metadata": {},
   "outputs": [
    {
     "data": {
      "text/plain": [
       "array([[667204,      7,      8,      7,      6,      4,      3,      8,\n",
       "             8,      4,      4],\n",
       "       [673637,      3,      1,      1,      1,      2,      5,      5,\n",
       "             1,      1,      2],\n",
       "       [684955,      2,      1,      1,      1,      3,      1,      2,\n",
       "             1,      1,      2],\n",
       "       [688033,      1,      1,      1,      1,      2,      1,      1,\n",
       "             1,      1,      2],\n",
       "       [691628,      8,      6,      4,     10,     10,      1,      3,\n",
       "             5,      1,      4]])"
      ]
     },
     "execution_count": 5,
     "metadata": {},
     "output_type": "execute_result"
    }
   ],
   "source": [
    "test[:5]"
   ]
  },
  {
   "cell_type": "markdown",
   "id": "846e1862",
   "metadata": {},
   "source": [
    "### Step 2: Calculate Distance between two data entries\n",
    "Write a function that accepts two data entries (1-D array) and returns the distance between them using the formula $$\\sqrt{\\sum_i{(a_i - b_i)^2}}$$ where a_i and b_i are the i-th element of a and b respectively.\n",
    "\n",
    "Remember to discard the first and last elements (ID and classification)."
   ]
  },
  {
   "cell_type": "code",
   "execution_count": 30,
   "id": "4029c415",
   "metadata": {},
   "outputs": [],
   "source": [
    "def calculateDistance(first, second):\n",
    "    first = first[1:-1]\n",
    "    second = second[1:-1]\n",
    "    # Do we want to avoid this type python expressions in case students haven't learned about them?\n",
    "    # Add explaination how this works? As it's a very useful python functionality.\n",
    "    # Provide two versions of solution?\n",
    "    squared_differences = np.array([(first[i] - second[i])**2 for i in range(len(first))])\n",
    "    return(np.sqrt(np.sum(squared_differences)))"
   ]
  },
  {
   "cell_type": "markdown",
   "id": "a12c726b",
   "metadata": {},
   "source": [
    "Now test your function!"
   ]
  },
  {
   "cell_type": "code",
   "execution_count": 7,
   "id": "7f7ef31a",
   "metadata": {},
   "outputs": [],
   "source": [
    "#TODO: Write test case"
   ]
  },
  {
   "cell_type": "code",
   "execution_count": 8,
   "id": "4859fa5a",
   "metadata": {},
   "outputs": [
    {
     "name": "stdout",
     "output_type": "stream",
     "text": [
      "11.313708498984761\n"
     ]
    }
   ],
   "source": [
    "# would it be better to just put it here for students not familiar with test cases?\n",
    "# like doing this and tell what the output shoud match\n",
    "print(calculateDistance(train[0], train[1]))"
   ]
  },
  {
   "cell_type": "markdown",
   "id": "0c5fa3a6",
   "metadata": {},
   "source": [
    "### Step 3: Calculate distance between ALL data entries\n",
    "Write a function that accepts one data entry and a list of entries (the `train` matrix we have) and returns an NumPy array containing distance from the one entry to all entries in the list of entries.\n",
    "\n",
    "Note: For this one project, the code can work if you simply access `train` instead of passing it as an argument, but we want the function to be reusable."
   ]
  },
  {
   "cell_type": "code",
   "execution_count": 9,
   "id": "d34df3f4",
   "metadata": {},
   "outputs": [],
   "source": [
    "def getAllDistances(entry, train_data):\n",
    "    distances = np.array([calculateDistance(entry, train) for train in train_data])\n",
    "    return(distances)"
   ]
  },
  {
   "cell_type": "markdown",
   "id": "0c9599da",
   "metadata": {},
   "source": [
    "Test your function!"
   ]
  },
  {
   "cell_type": "code",
   "execution_count": 10,
   "id": "dc6ca04f",
   "metadata": {},
   "outputs": [],
   "source": [
    "#TODO: Write test case"
   ]
  },
  {
   "cell_type": "code",
   "execution_count": 11,
   "id": "5d4d55ea",
   "metadata": {},
   "outputs": [
    {
     "name": "stdout",
     "output_type": "stream",
     "text": [
      "[ 0.         11.3137085  11.22497216 11.40175425 12.28820573  8.71779789\n",
      " 12.04159458 13.03840481 11.74734012 12.9614814 ]\n"
     ]
    }
   ],
   "source": [
    "print(getAllDistances(train[0], train)[:10])"
   ]
  },
  {
   "cell_type": "markdown",
   "id": "e80f2348",
   "metadata": {},
   "source": [
    "Run this grapher to visualize pairwise distances"
   ]
  },
  {
   "cell_type": "code",
   "execution_count": 12,
   "id": "c2830ee7",
   "metadata": {},
   "outputs": [],
   "source": [
    "#TODO: Write grapher"
   ]
  },
  {
   "cell_type": "markdown",
   "id": "ad407494",
   "metadata": {},
   "source": [
    "### Step 4: Find K nearest neighbors\n",
    "Write a function finds k nearest neighbors of a data entry and returns an array containing their indicies (not the distance themselves, and not ID number!).\n",
    "\n",
    "Hint: Use [numpy.argpartition](https://numpy.org/doc/stable/reference/generated/numpy.argpartition.html)"
   ]
  },
  {
   "cell_type": "code",
   "execution_count": 13,
   "id": "38987e76",
   "metadata": {},
   "outputs": [],
   "source": [
    "# Would it be better to just merge step 3 and 4? Both are basically just 1 line functions\n",
    "def getKNearestNeighbors(entry, train_data, k):\n",
    "    distances = getAllDistances(entry, train_data)\n",
    "    return np.argpartition(distances, k)[:k]"
   ]
  },
  {
   "cell_type": "markdown",
   "id": "34d27c79",
   "metadata": {},
   "source": [
    "Again, test your function!"
   ]
  },
  {
   "cell_type": "code",
   "execution_count": 14,
   "id": "745af8ad",
   "metadata": {},
   "outputs": [],
   "source": [
    "#TODO: Write test case"
   ]
  },
  {
   "cell_type": "code",
   "execution_count": 15,
   "id": "b498f4b6",
   "metadata": {},
   "outputs": [
    {
     "data": {
      "text/plain": [
       "array([  0, 110, 178, 145, 154])"
      ]
     },
     "execution_count": 15,
     "metadata": {},
     "output_type": "execute_result"
    }
   ],
   "source": [
    "getKNearestNeighbors(train[0], train, 5)"
   ]
  },
  {
   "cell_type": "markdown",
   "id": "24faca9c",
   "metadata": {},
   "source": [
    "### Step 5: Classify!\n",
    "Given the neighbors of an data entry, count how many of them are benign and malignant, and classify based on that."
   ]
  },
  {
   "cell_type": "code",
   "execution_count": 16,
   "id": "9edaf8a1",
   "metadata": {},
   "outputs": [],
   "source": [
    "def classify(train_data, neighbors_indices):\n",
    "    num_malignant = 0\n",
    "    for i in neighbors_indices:\n",
    "        if train_data[i][CLASSIFICATION_INDEX] == MALIGNANT:\n",
    "            num_malignant += 1\n",
    "    if num_malignant > neighbors_indices.size/2:\n",
    "        return MALIGNANT\n",
    "    else:\n",
    "        return BENIGN"
   ]
  },
  {
   "cell_type": "markdown",
   "id": "1caf1520",
   "metadata": {},
   "source": [
    "Does your classification function work on test data?\n",
    "\n",
    "(Again, we've done this for you. Nothing to edit here)"
   ]
  },
  {
   "cell_type": "code",
   "execution_count": 39,
   "id": "77524921",
   "metadata": {
    "scrolled": true
   },
   "outputs": [
    {
     "name": "stdout",
     "output_type": "stream",
     "text": [
      "Classification accuracy: 0.9428571428571428\n"
     ]
    }
   ],
   "source": [
    "num_correct = 0\n",
    "for entry in test:\n",
    "    neighbors = getKNearestNeighbors(entry, train, 5)\n",
    "    if classify(train, neighbors) == entry[CLASSIFICATION_INDEX]:\n",
    "        num_correct += 1\n",
    "accuracy = num_correct/len(test)\n",
    "print('Classification accuracy: ' + str(accuracy))"
   ]
  },
  {
   "cell_type": "markdown",
   "id": "06ee11ee",
   "metadata": {},
   "source": []
  }
 ],
 "metadata": {
  "kernelspec": {
   "display_name": "Python 3",
   "language": "python",
   "name": "python3"
  },
  "language_info": {
   "codemirror_mode": {
    "name": "ipython",
    "version": 3
   },
   "file_extension": ".py",
   "mimetype": "text/x-python",
   "name": "python",
   "nbconvert_exporter": "python",
   "pygments_lexer": "ipython3",
   "version": "3.8.8"
  }
 },
 "nbformat": 4,
 "nbformat_minor": 5
}
